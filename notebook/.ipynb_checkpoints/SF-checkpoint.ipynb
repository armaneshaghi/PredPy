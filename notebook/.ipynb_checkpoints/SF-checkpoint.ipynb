{
 "metadata": {
  "name": "",
  "signature": "sha256:fb8286fed358d4b410ec71c8a080447dfd27e259e4f8f177af95ffa209914bc4"
 },
 "nbformat": 3,
 "nbformat_minor": 0,
 "worksheets": []
}