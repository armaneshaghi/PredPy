{
 "metadata": {
  "name": "",
  "signature": "sha256:1a978800424ce9bf5a81032b905180492c672f96da543bee6204331ea241b853"
 },
 "nbformat": 3,
 "nbformat_minor": 0,
 "worksheets": [
  {
   "cells": [
    {
     "cell_type": "markdown",
     "metadata": {},
     "source": [
      "###Predicting MSFC from MRI scans\n",
      "Arman Eshaghi"
     ]
    },
    {
     "cell_type": "code",
     "collapsed": false,
     "input": [
      "import nipype.interfaces.fsl as fsl\n",
      "import nipype.interfaces.ants as ants\n",
      "import nipype.pipeline.engine as pe\n"
     ],
     "language": "python",
     "metadata": {},
     "outputs": [],
     "prompt_number": 1
    },
    {
     "cell_type": "markdown",
     "metadata": {},
     "source": [
      "Initializing workflow and "
     ]
    }
   ],
   "metadata": {}
  }
 ]
}